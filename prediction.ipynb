{
 "cells": [
  {
   "cell_type": "code",
   "execution_count": 1,
   "id": "5e3eb9fa",
   "metadata": {},
   "outputs": [
    {
     "name": "stderr",
     "output_type": "stream",
     "text": [
      "C:\\ProgramData\\anaconda3\\Lib\\site-packages\\sklearn\\base.py:439: UserWarning: X does not have valid feature names, but DecisionTreeClassifier was fitted with feature names\n",
      "  warnings.warn(\n"
     ]
    },
    {
     "data": {
      "text/plain": [
       "array([22], dtype=int64)"
      ]
     },
     "execution_count": 1,
     "metadata": {},
     "output_type": "execute_result"
    }
   ],
   "source": [
    "import pandas as pd\n",
    "from sklearn.tree import DecisionTreeClassifier\n",
    "\n",
    "# read csv file\n",
    "data = pd.read_csv('age-weight.csv') \n",
    "#prediction garna input rw output variable chayenxa\n",
    "\n",
    "#input variable goes here \n",
    "X = data.drop(columns=['Weight'])\n",
    "# X\n",
    "# output variable\n",
    "y = data['Weight']\n",
    "# y\n",
    "\n",
    "# creating the train model\n",
    "model = DecisionTreeClassifier()\n",
    "# importing our input and output data in the model \n",
    "model.fit(X,y)\n",
    "\n",
    "# making prediction\n",
    "prediction = model.predict([[10,3]])  \n",
    "# 10 , 3 is our input \n",
    "prediction"
   ]
  },
  {
   "cell_type": "code",
   "execution_count": 7,
   "id": "6b2c013a",
   "metadata": {},
   "outputs": [
    {
     "data": {
      "text/plain": [
       "0.0"
      ]
     },
     "execution_count": 7,
     "metadata": {},
     "output_type": "execute_result"
    }
   ],
   "source": [
    "\n",
    "import pandas as pd\n",
    "from sklearn.tree import DecisionTreeClassifier\n",
    "from sklearn.model_selection import train_test_split\n",
    "from sklearn.metrics import accuracy_score\n",
    "\n",
    "# read csv file\n",
    "data = pd.read_csv('age-weight.csv') \n",
    "X = data.drop(columns=['Weight'])\n",
    "y = data['Weight']\n",
    "\n",
    "X_train,x_test,Y_train,y_test = train_test_split(X,y,test_size=0.1)\n",
    "\n",
    "model = DecisionTreeClassifier()\n",
    "model.fit(X_train,Y_train)\n",
    "prediction = model.predict(x_test)\n",
    "score = accuracy_score(y_test,prediction)\n",
    "score\n"
   ]
  },
  {
   "cell_type": "code",
   "execution_count": 13,
   "id": "922f241b",
   "metadata": {},
   "outputs": [
    {
     "data": {
      "text/plain": [
       "['weight-prediction.joblib']"
      ]
     },
     "execution_count": 13,
     "metadata": {},
     "output_type": "execute_result"
    }
   ],
   "source": [
    "import pandas as pd\n",
    "from sklearn.tree import DecisionTreeClassifier\n",
    "import joblib\n",
    "\n",
    "data = pd.read_csv('age-weight.csv') \n",
    "X = data.drop(columns=['Weight'])\n",
    "y = data['Weight']\n",
    "\n",
    "# creating the train model\n",
    "model = DecisionTreeClassifier()\n",
    "# importing our input and output data in the model \n",
    "model.fit(X,y)\n",
    "\n",
    "joblib.dump('model','weight-prediction.joblib')\n",
    "\n",
    "\n"
   ]
  },
  {
   "cell_type": "code",
   "execution_count": 12,
   "id": "b26269a4",
   "metadata": {},
   "outputs": [
    {
     "ename": "AttributeError",
     "evalue": "'str' object has no attribute 'predict'",
     "output_type": "error",
     "traceback": [
      "\u001b[1;31m---------------------------------------------------------------------------\u001b[0m",
      "\u001b[1;31mAttributeError\u001b[0m                            Traceback (most recent call last)",
      "Cell \u001b[1;32mIn[12], line 6\u001b[0m\n\u001b[0;32m      3\u001b[0m \u001b[38;5;28;01mimport\u001b[39;00m \u001b[38;5;21;01mjoblib\u001b[39;00m\n\u001b[0;32m      5\u001b[0m model \u001b[38;5;241m=\u001b[39m joblib\u001b[38;5;241m.\u001b[39mload(\u001b[38;5;124m'\u001b[39m\u001b[38;5;124mweight-prediction.joblib\u001b[39m\u001b[38;5;124m'\u001b[39m)\n\u001b[1;32m----> 6\u001b[0m predication \u001b[38;5;241m=\u001b[39m model\u001b[38;5;241m.\u001b[39mpredict([[\u001b[38;5;241m21\u001b[39m,\u001b[38;5;241m5\u001b[39m]])\n\u001b[0;32m      7\u001b[0m predication\n",
      "\u001b[1;31mAttributeError\u001b[0m: 'str' object has no attribute 'predict'"
     ]
    }
   ],
   "source": [
    "import pandas as pd\n",
    "from sklearn.tree import DecisionTreeClassifier\n",
    "import joblib\n",
    "\n",
    "model = joblib.load('weight-prediction.joblib')\n",
    "model.predi"
   ]
  }
 ],
 "metadata": {
  "kernelspec": {
   "display_name": "Python 3 (ipykernel)",
   "language": "python",
   "name": "python3"
  },
  "language_info": {
   "codemirror_mode": {
    "name": "ipython",
    "version": 3
   },
   "file_extension": ".py",
   "mimetype": "text/x-python",
   "name": "python",
   "nbconvert_exporter": "python",
   "pygments_lexer": "ipython3",
   "version": "3.11.3"
  }
 },
 "nbformat": 4,
 "nbformat_minor": 5
}
