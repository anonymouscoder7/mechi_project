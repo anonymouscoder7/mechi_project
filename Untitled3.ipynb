{
 "cells": [
  {
   "cell_type": "code",
   "execution_count": 36,
   "id": "77910511",
   "metadata": {},
   "outputs": [
    {
     "data": {
      "text/plain": [
       "array([ 1,  2, 10, 20])"
      ]
     },
     "execution_count": 36,
     "metadata": {},
     "output_type": "execute_result"
    }
   ],
   "source": [
    "import numpy as np\n",
    "\n",
    "arr1 = np.array([18,3,10,6,15])\n",
    "arr2 = np.array([18,15,10,6,15])\n",
    "# matrix opterations using numpy\n",
    "\n",
    "# print(arr1+arr2)\n",
    "# print(arr1-arr2)\n",
    "# print(arr1*arr2)\n",
    "# print(arr1/arr2)\n",
    "\n",
    "# finding max min\n",
    "\n",
    "# np.max(arr1)\n",
    "# np.min(arr2)\n",
    "\n",
    "# genrating matrix \n",
    "\n",
    "# zeros = np.zeros((1,2))\n",
    "# zeros\n",
    "# matrix = np.random.rand(2,3)\n",
    "# matrix = np.random.randint(2,3,(3,2))\n",
    "# matrix\n",
    "\n",
    "# sum the array\n",
    "# new_arr = np.array([10,20,1,2,2])\n",
    "# sum(new_arr)\n",
    "\n",
    "# array slicing\n",
    "# new_arr[0:3]\n",
    "\n",
    "#finding mean \n",
    "# np.mean(new_arr)\n",
    "\n",
    "# finding standard deviation\n",
    "# np.std(new_arr)\n",
    "\n",
    "# finding unique number\n",
    "# np.unique(new_arr)\n"
   ]
  }
 ],
 "metadata": {
  "kernelspec": {
   "display_name": "Python 3 (ipykernel)",
   "language": "python",
   "name": "python3"
  },
  "language_info": {
   "codemirror_mode": {
    "name": "ipython",
    "version": 3
   },
   "file_extension": ".py",
   "mimetype": "text/x-python",
   "name": "python",
   "nbconvert_exporter": "python",
   "pygments_lexer": "ipython3",
   "version": "3.11.3"
  }
 },
 "nbformat": 4,
 "nbformat_minor": 5
}
