{
 "cells": [
  {
   "cell_type": "code",
   "execution_count": 17,
   "id": "24b7a8b7",
   "metadata": {},
   "outputs": [
    {
     "data": {
      "text/plain": [
       "array([12834.])"
      ]
     },
     "execution_count": 17,
     "metadata": {},
     "output_type": "execute_result"
    }
   ],
   "source": [
    "import pandas as pd\n",
    "from sklearn.tree import DecisionTreeRegressor\n",
    "\n",
    "houses = pd.read_csv('house.csv');\n",
    "# houses\n",
    "houses = houses.drop(columns=['House'])\n",
    "\n",
    "houses = pd.get_dummies(houses, columns=['Address'], drop_first=True)\n",
    "\n",
    "X = houses.drop(columns=['Price'])\n",
    "y = houses['Price']\n",
    "# X\n",
    "# y\n",
    "# houses\n",
    "model = DecisionTreeRegressor()\n",
    "model.fit(X,y)\n",
    "new_data = pd.DataFrame({\n",
    "    'Address_Itahari': [1],  # Set 'Address_Itahari' to 1\n",
    "    **{col: 0 for col in X.columns if col.startswith('Address_')},\n",
    "    'Room': [2], 'Floor': [2], 'Age': [2]\n",
    "})\n",
    "\n",
    "# Reorder columns to match the order during training\n",
    "new_data = new_data[X.columns]\n",
    "prediction = model.predict(new_data)\n",
    "prediction\n",
    "\n"
   ]
  },
  {
   "cell_type": "code",
   "execution_count": 43,
   "id": "a8f3ed86",
   "metadata": {},
   "outputs": [
    {
     "name": "stdout",
     "output_type": "stream",
     "text": [
      "Accuracy Score: 0.5857142857142857\n"
     ]
    }
   ],
   "source": [
    "import pandas as pd\n",
    "import numpy as np\n",
    "from sklearn.tree import DecisionTreeClassifier\n",
    "from sklearn.model_selection import train_test_split\n",
    "from sklearn.metrics import accuracy_score\n",
    "\n",
    "# Load and preprocess the data\n",
    "houses = pd.read_csv('house.csv')\n",
    "houses = houses.drop(columns=['House'])\n",
    "\n",
    "# Convert house prices into bins (classification labels)\n",
    "bins = [0, 15000, 30000, 45000, np.inf]\n",
    "labels = [1, 2, 3, 4]  # You can adjust the labels as needed\n",
    "\n",
    "houses['PriceCategory'] = pd.cut(houses['Price'], bins=bins, labels=labels)\n",
    "\n",
    "houses = pd.get_dummies(houses, columns=['Address'], drop_first=True)\n",
    "\n",
    "X = houses.drop(columns=['Price', 'PriceCategory'])\n",
    "y = houses['PriceCategory']\n",
    "\n",
    "# Split the data into training and testing sets\n",
    "X_train, X_test, y_train, y_test = train_test_split(X, y, test_size=0.2, random_state=42)\n",
    "\n",
    "# Train the Decision Tree Classifier model\n",
    "model = DecisionTreeClassifier()\n",
    "model.fit(X_train, y_train)\n",
    "\n",
    "# Make predictions on the test set\n",
    "predictions = model.predict(X_test)\n",
    "\n",
    "# Calculate the accuracy score for the classification task\n",
    "accuracy = accuracy_score(y_test, predictions)\n",
    "print(f\"Accuracy Score: {accuracy}\")\n"
   ]
  }
 ],
 "metadata": {
  "kernelspec": {
   "display_name": "Python 3 (ipykernel)",
   "language": "python",
   "name": "python3"
  },
  "language_info": {
   "codemirror_mode": {
    "name": "ipython",
    "version": 3
   },
   "file_extension": ".py",
   "mimetype": "text/x-python",
   "name": "python",
   "nbconvert_exporter": "python",
   "pygments_lexer": "ipython3",
   "version": "3.11.3"
  }
 },
 "nbformat": 4,
 "nbformat_minor": 5
}
